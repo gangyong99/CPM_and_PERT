{
 "cells": [
  {
   "cell_type": "markdown",
   "id": "2eccfadf",
   "metadata": {},
   "source": [
    "# PERT / CPM\n",
    "![PERT](https://upload.wikimedia.org/wikipedia/commons/b/b9/Pert_chart_colored.gif)\n",
    "\n",
    "#### PERT(Program/Project Evaluation and Review Technique)\n",
    "\n",
    "\n",
    "...\n",
    "#### CPM(Critical Path Method)\n",
    "\n",
    "...\n",
    "\n",
    "#### Progress Status\n",
    "\n",
    "- Create Node[O]\n",
    "- Graph Visualization[O]\n",
    "    - Node can be placed automatically.\n",
    "    - Links are created automatically.\n",
    "- PERT, CPM share\n",
    "    - Time calculation[...]\n",
    "    - Forward calculation[O]\n",
    "    - Backward calculation[O]\n",
    "    - Critical Path[...]\n",
    "    - ...\n",
    "- PERT\n",
    "    - ...\n",
    "- CPM\n",
    "    - ...\n",
    "- Interface?\n",
    "    - Node Information Input\n",
    "- 코드 정리...\n"
   ]
  },
  {
   "cell_type": "markdown",
   "id": "f45397b4",
   "metadata": {},
   "source": [
    "## Create node, Forward calculation, Backward calculation"
   ]
  },
  {
   "cell_type": "code",
   "execution_count": 364,
   "id": "cca933d4",
   "metadata": {},
   "outputs": [],
   "source": [
    "from queue import Queue\n",
    "# node # = 0, 1, 2, ...\n",
    "# direction \"row to column\"\n",
    "class dir_graph_pert():\n",
    "    def __init__(self,node_map=[],node_weight_map=[],virtual_link=[]):\n",
    "        self.node_map=node_map\n",
    "        self.virtual_link=virtual_link\n",
    "        self.node_weight_map=node_weight_map\n",
    "        self.total_node_map = []\n",
    "        self.forward_value = []\n",
    "        self.backward_value = []\n",
    "        self.total_node_map_inv=[]\n",
    "    def component_print(self):\n",
    "        for i in range(0,len(self.node_map)):\n",
    "            print(i,\"||-> \",end=' ')\n",
    "            for j in range(0,len(self.node_map[i])):\n",
    "                print(self.node_map[i][j],end=' ')\n",
    "            print(\"\")\n",
    "            \n",
    "    def set_node_map(self,node_map_input):\n",
    "        if len(self.node_map) == 0:\n",
    "            self.node_map = node_map_input\n",
    "            for i in range(0,len(self.node_map)):\n",
    "                self.node_map[i].sort()\n",
    "            print(\"Successfully Geneated Node\")\n",
    "        else:\n",
    "            print(\"Plz Clear Node\")\n",
    "    def add_node(self,num_node):\n",
    "        #인접 리스트 행 추가\n",
    "        for i in range(0,num_node):\n",
    "            self.node_map.append([])\n",
    "        \n",
    "    # direction \"row to column\"\n",
    "    def add_conn(self,from_,to_):\n",
    "        #인접 리스트 행 내 칼럼 추가\n",
    "        if from_ < len(self.node_map) and to_ < len(self.node_map):\n",
    "            print(\"Input Node Number is valid from (\"+str(from_)+\") to (\"+str(to_)+\") \")\n",
    "            self.node_map[from_].append(to_)\n",
    "            for i in range(0,len(self.node_map)):\n",
    "                self.node_map[i].sort()\n",
    "        else:\n",
    "            print(\"Plz Input Node Number Check\")\n",
    "        \n",
    "    def graph_clear(self):\n",
    "        self.node_map=[]\n",
    "        \n",
    "    def get_node_map(self):\n",
    "        return self.node_map\n",
    "\n",
    "    def forward_calc(self):\n",
    "        print(\"forward calculating...\")\n",
    "        que = Queue()\n",
    "        #BFS로는 안됨, 중복 방문 허용 되어야 하기 때문에(중복 방문 후 더 오래걸리는 시간으로 등록)\n",
    "        #node_weight_map과 virtual_link 통합\n",
    "        self.total_node_map = self.node_weight_map[:]\n",
    "        #print(self.total_node_map)\n",
    "        for i in range(0,len(self.virtual_link)):\n",
    "            temp = self.virtual_link[i]\n",
    "            self.total_node_map[temp[0]].append([temp[1],0])\n",
    "        for i in range(0,len(self.total_node_map)):\n",
    "            self.forward_value.append(0)\n",
    "        print(\"Forward Node Value Init. = \",self.forward_value)\n",
    "        que.put(0)\n",
    "        \n",
    "        while que.empty() == False:\n",
    "            cur_node = que.get()\n",
    "            cur_time = self.forward_value[cur_node]\n",
    "            next_node = self.total_node_map[cur_node]\n",
    "            #next_node[i][0] : 다음 노드 번호\n",
    "            #next_node[i][1] : 현재 노드에서 다음 노드까지 걸리는 시간\n",
    "            for i in range(0,len(next_node)):\n",
    "                que.put(next_node[i][0]) # Queue에 쌓기\n",
    "                next_time = cur_time+next_node[i][1] # time 더하기 : 현재 까지 걸린 시간 + 현재 노드에서 다음 노드까지 걸리는 시간\n",
    "                if next_time > self.forward_value[next_node[i][0]]:# time 더하기 결과 값이 원래 걸려있는 노드보다 커야 바꿈.\n",
    "                    self.forward_value[next_node[i][0]] = next_time\n",
    "        print(\"forward calculation result = \",self.forward_value)        \n",
    "    \n",
    "    def backward_calc(self):\n",
    "        print(\"backward calculating...\")\n",
    "        \n",
    "        # List 생성\n",
    "        for i in range(0,len(self.total_node_map)):\n",
    "            self.total_node_map_inv.append([])\n",
    "\n",
    "        for i in range(0,len(self.total_node_map)):\n",
    "            for j in range(0,len(self.total_node_map[i])):\n",
    "                #print(self.total_node_map[i][j])\n",
    "                self.total_node_map_inv[self.total_node_map[i][j][0]].append([i,self.total_node_map[i][j][1]])\n",
    "        \n",
    "        for i in range(0,len(self.total_node_map)):\n",
    "            self.backward_value.append(self.forward_value[len(self.total_node_map)-1])\n",
    "        \n",
    "        que = Queue()\n",
    "        que.put(len(self.total_node_map_inv)-1)\n",
    "        \n",
    "        while que.empty() == False:\n",
    "            cur_node = que.get()\n",
    "            cur_time = self.backward_value[cur_node]\n",
    "            next_node = self.total_node_map_inv[cur_node]\n",
    "            #next_node[i][0] : 다음 노드 번호\n",
    "            #next_node[i][1] : 현재 노드에서 다음 노드까지 걸리는 시간\n",
    "            for i in range(0,len(next_node)):\n",
    "                que.put(next_node[i][0]) # Queue에 쌓기\n",
    "                next_time = cur_time-next_node[i][1] # time 빼기 : 지금 시간(TE) - 이전 노드에서 현재 노드까지 걸리는 시간\n",
    "                if next_time < self.backward_value[next_node[i][0]]:# time 빼기 결과 값이 원래 걸려있는 노드보다 작아야 바꿈.\n",
    "                    self.backward_value[next_node[i][0]] = next_time\n",
    "        print(\"backward calculation result = \",self.backward_value)"
   ]
  },
  {
   "cell_type": "markdown",
   "id": "971b5e86",
   "metadata": {},
   "source": [
    "## Graph Visualization"
   ]
  },
  {
   "cell_type": "code",
   "execution_count": 403,
   "id": "90f458a6",
   "metadata": {},
   "outputs": [],
   "source": [
    "import math\n",
    "import matplotlib.patches as patches\n",
    "import matplotlib.pyplot as plt\n",
    "import numpy as np\n",
    "class plot_node_graph():\n",
    "    def __init__(self,node_map,node_weight_map=[],virtual_link=[],dist=15,radius=2):\n",
    "        print('plot_node_graph')\n",
    "        self.node_map = node_map\n",
    "        self.virtual_link = virtual_link\n",
    "        self.node_weight_map=node_weight_map\n",
    "        self.coordinates = []\n",
    "        self.coord_flag = []\n",
    "        self.flag = []\n",
    "        self.forward_link = []\n",
    "        self.dist=dist\n",
    "        self.radius=radius\n",
    "    # -45 ~ 45 기준 이면, 출발각 : -45, 스텝각 : 90/n, 종점각 : 45\n",
    "    def R_trans(self,theta,vector):\n",
    "        if type(vector) == list:\n",
    "            return_vec = np.dot(np.array([[math.cos(theta),-math.sin(theta)],[math.sin(theta),math.cos(theta)]]),np.array(vector))\n",
    "        elif type(vector) == nd.ndarray:\n",
    "            return_vec = np.dot(np.array([[math.cos(theta),-math.sin(theta)],[math.sin(theta),math.cos(theta)]]),vector)\n",
    "        return return_vec\n",
    "    def calc_col_row(self):\n",
    "        #print('column, row calculating')\n",
    "        # [0,0]으로 초기화\n",
    "        for i in range(0,len(self.node_map)):\n",
    "            self.coordinates.append([0,0])\n",
    "            self.coord_flag.append(0)\n",
    "            self.flag.append(0)\n",
    "            self.forward_link.append(0)\n",
    "        # 좌표 대입    \n",
    "        self.flag[0] = 1\n",
    "        self.coord_flag[0]=1\n",
    "        for i in range(0,len(self.node_map)): #Row의수 = len(node_map)\n",
    "            for j in range(0,len(self.node_map[i])):\n",
    "                #print(\"current node_map[\"+str(i)+\"][\"+str(j)+\"] = \",str(self.node_map[i][j]))\n",
    "                if self.flag[self.node_map[i][j]] == 0:\n",
    "                    self.flag[self.node_map[i][j]] = 1\n",
    "                    self.forward_link[i] = self.forward_link[i] + 1\n",
    "                    \n",
    "            #print(\"forward_link=\"+str(self.forward_link[i]))\n",
    "            for j in range(0,len(self.node_map[i])):\n",
    "                if self.forward_link[i] != 0:\n",
    "                    start_theta = 45\n",
    "                    end_theta = -45\n",
    "                    \n",
    "                    if self.forward_link[i] > 1:\n",
    "                        if j == 0:# start 각\n",
    "                            theta = start_theta\n",
    "                        elif j == self.forward_link[i]-1:# end 각\n",
    "                            theta = end_theta\n",
    "                        else:\n",
    "                            theta = start_theta-j*(90/(self.forward_link[i]-1))\n",
    "                        \n",
    "                        #print(str(i)+\"->\"+str(self.node_map[i][j])+\",\"+str(self.node_map[i][j])+\" theta = \"+str(theta))\n",
    "                        #print(str(i)+\"-->\"+str(self.node_map[i][j])+\"의,\"+str(i)+\"와\"+str(self.node_map[i][j])+\"사이의 theta = \"+str(theta))\n",
    "                        if self.coord_flag[self.node_map[i][j]] == 0:\n",
    "                            self.coordinates[self.node_map[i][j]] = list(np.array(self.coordinates[i])+self.R_trans(theta,[self.dist,0]))\n",
    "                            #print(self.coordinates)\n",
    "                            self.coord_flag[self.node_map[i][j]]=1\n",
    "                    elif self.forward_link[i] == 1:\n",
    "                        theta = 0\n",
    "                        #print(str(i)+\"->\"+str(self.node_map[i][j])+\" theta = \"+str(theta))\n",
    "                        if self.coord_flag[self.node_map[i][j]] == 0:\n",
    "                            self.coordinates[self.node_map[i][j]] = list(np.array(self.coordinates[i])+self.R_trans(theta,[self.dist,0]))\n",
    "                            #print(self.coordinates)\n",
    "                            self.coord_flag[self.node_map[i][j]]=1\n",
    "                #else:\n",
    "                    #print(\"No Forward Link\")\n",
    "            \n",
    "        #print(self.forward_link)\n",
    "    def node_plotting(self):\n",
    "        print('plotting...')\n",
    "        coords = np.array(self.coordinates)\n",
    "        X=np.array([coords[:,0].min()-5,coords[:,0].max()+5])\n",
    "        Y=np.array([coords[:,1].min()-5,coords[:,1].max()+5])\n",
    "\n",
    "        plt.plot(X,Y,color='None')\n",
    "        plt.axis('equal')\n",
    "        ax = plt.gca()\n",
    "        ax.axes.xaxis.set_visible(False)\n",
    "        ax.axes.yaxis.set_visible(False)\n",
    "        for i in range(0,len(self.coordinates)):\n",
    "            x = self.coordinates[i][0]\n",
    "            y = self.coordinates[i][1]\n",
    "            #circle\n",
    "            shp=patches.Circle((x,y), radius=self.radius, facecolor='lightgray',\n",
    "                              edgecolor='black')\n",
    "            plt.text(x-self.radius/15,y-self.radius/15,str(i),size=10)\n",
    "            plt.gca().add_patch(shp)\n",
    "\n",
    "    def arrow_plotting(self):\n",
    "        coords = np.array(self.coordinates)\n",
    "        for i in range(0,len(self.node_map)):\n",
    "            for j in range(0,len(self.node_map[i])):\n",
    "                # i --> self.node_map[i][j]\n",
    "                plt.annotate('',\n",
    "                xy = (coords[self.node_map[i][j],0], coords[self.node_map[i][j],1]),\n",
    "                xytext = (coords[i,0], coords[i,1]),\n",
    "                arrowprops = dict(facecolor='black', width=1, shrink=0.1, headwidth=10))\n",
    "\n",
    "\n",
    "    def virtual_arrow(self):\n",
    "        for i in range(0,len(self.virtual_link)):\n",
    "            from_ = self.virtual_link[i][0]\n",
    "            to_ = self.virtual_link[i][1]\n",
    "            plt.annotate('',\n",
    "            xy = (self.coordinates[to_][0],self.coordinates[to_][1]),\n",
    "            xytext = (self.coordinates[from_][0],self.coordinates[from_][1]),\n",
    "            arrowprops = dict(color='lightgray', width=1, shrink=0.1, headwidth=10))\n",
    "    \n",
    "    def weight_plotting(self):\n",
    "        for i in range(0,len(self.node_weight_map)):\n",
    "            for j in range(0,len(self.node_weight_map[i])):\n",
    "                # from \"i\" to \"j\"\n",
    "                from_ = i\n",
    "                to_ = node_weight_map[i][j][0]\n",
    "                p1 = self.coordinates[from_]\n",
    "                p2 = self.coordinates[to_]\n",
    "                if p2[0]-p1[0]>0 and p2[1]-p1[1]>0:\n",
    "                    p = [(p1[0]+p2[0])*0.5,(p1[1]+p2[1])*0.35]\n",
    "                else:\n",
    "                    p = [(p1[0]+p2[0])*0.5,(p1[1]+p2[1])*0.5]\n",
    "                plt.text(p[0],p[1],str(node_weight_map[i][j][1]),color='r',backgroundcolor='lightgray',fontsize=8)\n",
    "    \n",
    "    def time_plotting(self,forward_value,backward_value):\n",
    "        coords = np.array(self.coordinates)\n",
    "        plt.text(coords[:,0].min()-5,coords[:,1].max()+5,\"TE//TL\",backgroundcolor='lightblue',fontsize=10)\n",
    "        for i in range(0,len(forward_value)):\n",
    "            p = self.coordinates[i]\n",
    "            shift = 3\n",
    "            if p[1]>=0:\n",
    "                plt.text(p[0]-shift,p[1]+shift,str(forward_value[i])+\"//\"+str(backward_value[i]),backgroundcolor='lightblue',fontsize=8)\n",
    "            elif p[1]<0:\n",
    "                plt.text(p[0]-shift,(p[1]-shift),str(forward_value[i])+\"//\"+str(backward_value[i]),backgroundcolor='lightblue',fontsize=8)\n",
    "    \n",
    "    def drawing(self):\n",
    "        plt.show()"
   ]
  },
  {
   "cell_type": "markdown",
   "id": "9a0b886a",
   "metadata": {},
   "source": [
    "## Node graph 생성 및 forward 계산\n",
    "- node_map : virtual link 제외 순수 node와 link에 대한 정보 기입 </br>\n",
    "※ [[node 0 links],[node 1 links],...]\n",
    "- node_weigth_map : node_map + node to node의 weight 정보 기입</br>\n",
    "※ [[[node 0 link_1,weight_1],[node 0 link_2,weight_2],..],[node 1 link_1,weight_1],[node 1 link_2,weight_2],..],...]\n",
    "- virtual_link : virtual link에 대한 정보\n",
    "※ dir_graph_pert(virtual_link=[[from node, to node]])"
   ]
  },
  {
   "cell_type": "code",
   "execution_count": 404,
   "id": "cc1f7c2f",
   "metadata": {},
   "outputs": [
    {
     "name": "stdout",
     "output_type": "stream",
     "text": [
      "forward calculating...\n",
      "Forward Node Value Init. =  [0, 0, 0, 0, 0, 0, 0, 0, 0, 0]\n",
      "forward calculation result =  [0, 1, 2, 3, 2, 10, 8, 13, 17, 27]\n",
      "backward calculating...\n",
      "backward calculation result =  [0, 2, 2, 4, 16, 11, 8, 14, 17, 27]\n"
     ]
    }
   ],
   "source": [
    "node_map = [[1,2,3],[4],[6],[5],[8],[7],[8],[8],[9],[]]\n",
    "node_weight_map = [[[1,1],[2,2],[3,3]],[[4,1]],[[6,6]],[[5,7]],[[8,1]],[[7,3]],[[8,9]],[[8,3]],[[9,10]],[]]\n",
    "grp = dir_graph_pert(node_map = node_map,node_weight_map=node_weight_map,virtual_link=[[1,2]])\n",
    "grp.forward_calc()\n",
    "grp.backward_calc()"
   ]
  },
  {
   "cell_type": "markdown",
   "id": "fb9d1617",
   "metadata": {},
   "source": [
    "## Node graph Plot"
   ]
  },
  {
   "cell_type": "code",
   "execution_count": 405,
   "id": "451b725e",
   "metadata": {},
   "outputs": [
    {
     "name": "stdout",
     "output_type": "stream",
     "text": [
      "plot_node_graph\n",
      "10\n",
      "3\n"
     ]
    }
   ],
   "source": [
    "node_map = [[1,2,3],[4],[6],[5],[8],[7],[8],[8],[9],[]]\n",
    "node_weight_map = [[[1,1],[2,2],[3,3]],[[4,1]],[[6,6]],[[5,7]],[[8,1]],[[7,3]],[[8,9]],[[8,3]],[[9,10]],[]]\n",
    "grpplt = plot_node_graph(node_map=node_map,node_weight_map=node_weight_map,virtual_link=[[1,2]])\n",
    "grpplt.calc_col_row()\n",
    "print(len(node_weight_map))\n",
    "print(len(node_weight_map[0]))"
   ]
  },
  {
   "cell_type": "code",
   "execution_count": 406,
   "id": "daf3c089",
   "metadata": {
    "scrolled": true
   },
   "outputs": [
    {
     "name": "stdout",
     "output_type": "stream",
     "text": [
      "plotting...\n"
     ]
    },
    {
     "data": {
      "image/png": "[encoded data removed]",
      "text/plain": [
       "<Figure size 432x288 with 1 Axes>"
      ]
     },
     "metadata": {
      "needs_background": "light"
     },
     "output_type": "display_data"
    }
   ],
   "source": [
    "grpplt.node_plotting()\n",
    "grpplt.arrow_plotting()\n",
    "grpplt.virtual_arrow()\n",
    "grpplt.weight_plotting()\n",
    "grpplt.time_plotting(grp.forward_value,grp.backward_value)\n",
    "grpplt.drawing()"
   ]
  },
  {
   "cell_type": "markdown",
   "id": "2b4aa479",
   "metadata": {},
   "source": [
    "### Example 2"
   ]
  },
  {
   "cell_type": "code",
   "execution_count": 407,
   "id": "db4f5f31",
   "metadata": {},
   "outputs": [
    {
     "name": "stdout",
     "output_type": "stream",
     "text": [
      "forward calculating...\n",
      "Forward Node Value Init. =  [0, 0, 0, 0]\n",
      "forward calculation result =  [0, 10, 10, 18]\n",
      "backward calculating...\n",
      "backward calculation result =  [0, 10, 10, 18]\n"
     ]
    }
   ],
   "source": [
    "node_map = [[1,2],[3],[3],[]]\n",
    "node_weight_map = [[[1,10],[2,7]],[[3,6]],[[3,8]],[]]\n",
    "virtual_link = [[1,2]]\n",
    "grp = dir_graph_pert(node_map = node_map,node_weight_map=node_weight_map,virtual_link=virtual_link)\n",
    "grp.forward_calc()\n",
    "grp.backward_calc()"
   ]
  },
  {
   "cell_type": "code",
   "execution_count": 408,
   "id": "1d93a51e",
   "metadata": {},
   "outputs": [
    {
     "name": "stdout",
     "output_type": "stream",
     "text": [
      "plot_node_graph\n"
     ]
    }
   ],
   "source": [
    "grpplt = plot_node_graph(node_map=node_map,node_weight_map=node_weight_map,virtual_link=virtual_link)\n",
    "grpplt.calc_col_row()"
   ]
  },
  {
   "cell_type": "code",
   "execution_count": 409,
   "id": "51ffa1e7",
   "metadata": {},
   "outputs": [
    {
     "name": "stdout",
     "output_type": "stream",
     "text": [
      "plotting...\n"
     ]
    },
    {
     "data": {
      "image/png": "[encoded data removed]",
      "text/plain": [
       "<Figure size 432x288 with 1 Axes>"
      ]
     },
     "metadata": {
      "needs_background": "light"
     },
     "output_type": "display_data"
    }
   ],
   "source": [
    "grpplt.node_plotting()\n",
    "grpplt.arrow_plotting()\n",
    "grpplt.virtual_arrow()\n",
    "grpplt.weight_plotting()\n",
    "grpplt.time_plotting(grp.forward_value,grp.backward_value)\n",
    "grpplt.drawing()"
   ]
  },
  {
   "cell_type": "markdown",
   "id": "9e1c7007",
   "metadata": {},
   "source": [
    "### Example 3"
   ]
  },
  {
   "cell_type": "code",
   "execution_count": 410,
   "id": "99e39a79",
   "metadata": {},
   "outputs": [
    {
     "name": "stdout",
     "output_type": "stream",
     "text": [
      "forward calculating...\n",
      "Forward Node Value Init. =  [0, 0, 0, 0, 0, 0, 0, 0, 0, 0]\n",
      "forward calculation result =  [0, 4, 4, 5, 9, 7, 9, 9, 15, 20]\n",
      "backward calculating...\n",
      "backward calculation result =  [0, 4, 7, 7, 9, 9, 12, 11, 15, 20]\n"
     ]
    }
   ],
   "source": [
    "node_map = [[1,2,3],[4],[6],[5],[8],[7],[8],[8],[9],[]]\n",
    "node_weight_map = [[[1,4],[2,4],[3,5]],[[4,5]],[[6,5]],[[5,2]],[[8,6]],[[7,2]],[[8,3]],[[8,4]],[[9,5]],[]]\n",
    "virtual_link = [[2,3],[5,6]]\n",
    "grp = dir_graph_pert(node_map = node_map,node_weight_map=node_weight_map,virtual_link=virtual_link)\n",
    "grp.forward_calc()\n",
    "grp.backward_calc()"
   ]
  },
  {
   "cell_type": "code",
   "execution_count": 411,
   "id": "91142f68",
   "metadata": {},
   "outputs": [
    {
     "name": "stdout",
     "output_type": "stream",
     "text": [
      "plot_node_graph\n"
     ]
    }
   ],
   "source": [
    "grpplt = plot_node_graph(node_map=node_map,node_weight_map=node_weight_map,virtual_link=virtual_link)\n",
    "grpplt.calc_col_row()"
   ]
  },
  {
   "cell_type": "code",
   "execution_count": 412,
   "id": "b6655992",
   "metadata": {
    "scrolled": true
   },
   "outputs": [
    {
     "name": "stdout",
     "output_type": "stream",
     "text": [
      "plotting...\n"
     ]
    },
    {
     "data": {
      "image/png": "[encoded data removed]",
      "text/plain": [
       "<Figure size 432x288 with 1 Axes>"
      ]
     },
     "metadata": {
      "needs_background": "light"
     },
     "output_type": "display_data"
    }
   ],
   "source": [
    "grpplt.node_plotting()\n",
    "grpplt.arrow_plotting()\n",
    "grpplt.virtual_arrow()\n",
    "grpplt.weight_plotting()\n",
    "grpplt.time_plotting(grp.forward_value,grp.backward_value)\n",
    "grpplt.drawing()"
   ]
  }
 ],
 "metadata": {
  "kernelspec": {
   "display_name": "Python 3 (ipykernel)",
   "language": "python",
   "name": "python3"
  },
  "language_info": {
   "codemirror_mode": {
    "name": "ipython",
    "version": 3
   },
   "file_extension": ".py",
   "mimetype": "text/x-python",
   "name": "python",
   "nbconvert_exporter": "python",
   "pygments_lexer": "ipython3",
   "version": "3.9.7"
  }
 },
 "nbformat": 4,
 "nbformat_minor": 5
}
